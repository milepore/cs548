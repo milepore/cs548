{
 "cells": [
  {
   "cell_type": "markdown",
   "id": "4a0c8ea1-1eee-404a-88df-263cf8b4e7bf",
   "metadata": {},
   "source": [
    "CS548 Homework 3\n",
    "Michael Lepore\n"
   ]
  },
  {
   "cell_type": "markdown",
   "id": "3cf3f151-35f0-455c-8d22-fa20ca4916db",
   "metadata": {},
   "source": [
    "## Loading data, and analysis"
   ]
  },
  {
   "cell_type": "code",
   "execution_count": 67,
   "id": "fe5455f4-183d-4d1b-a641-eb4e360f064d",
   "metadata": {},
   "outputs": [
    {
     "data": {
      "text/html": [
       "<div>\n",
       "<style scoped>\n",
       "    .dataframe tbody tr th:only-of-type {\n",
       "        vertical-align: middle;\n",
       "    }\n",
       "\n",
       "    .dataframe tbody tr th {\n",
       "        vertical-align: top;\n",
       "    }\n",
       "\n",
       "    .dataframe thead th {\n",
       "        text-align: right;\n",
       "    }\n",
       "</style>\n",
       "<table border=\"1\" class=\"dataframe\">\n",
       "  <thead>\n",
       "    <tr style=\"text-align: right;\">\n",
       "      <th></th>\n",
       "      <th>PassengerId</th>\n",
       "      <th>Survived</th>\n",
       "      <th>Pclass</th>\n",
       "      <th>Name</th>\n",
       "      <th>Sex</th>\n",
       "      <th>Age</th>\n",
       "      <th>SibSp</th>\n",
       "      <th>Parch</th>\n",
       "      <th>Ticket</th>\n",
       "      <th>Fare</th>\n",
       "      <th>Cabin</th>\n",
       "      <th>Embarked</th>\n",
       "    </tr>\n",
       "  </thead>\n",
       "  <tbody>\n",
       "    <tr>\n",
       "      <th>0</th>\n",
       "      <td>1</td>\n",
       "      <td>0</td>\n",
       "      <td>3</td>\n",
       "      <td>Braund, Mr. Owen Harris</td>\n",
       "      <td>male</td>\n",
       "      <td>22.0</td>\n",
       "      <td>1</td>\n",
       "      <td>0</td>\n",
       "      <td>A/5 21171</td>\n",
       "      <td>7.2500</td>\n",
       "      <td>NaN</td>\n",
       "      <td>S</td>\n",
       "    </tr>\n",
       "    <tr>\n",
       "      <th>1</th>\n",
       "      <td>2</td>\n",
       "      <td>1</td>\n",
       "      <td>1</td>\n",
       "      <td>Cumings, Mrs. John Bradley (Florence Briggs Th...</td>\n",
       "      <td>female</td>\n",
       "      <td>38.0</td>\n",
       "      <td>1</td>\n",
       "      <td>0</td>\n",
       "      <td>PC 17599</td>\n",
       "      <td>71.2833</td>\n",
       "      <td>C85</td>\n",
       "      <td>C</td>\n",
       "    </tr>\n",
       "    <tr>\n",
       "      <th>2</th>\n",
       "      <td>3</td>\n",
       "      <td>1</td>\n",
       "      <td>3</td>\n",
       "      <td>Heikkinen, Miss. Laina</td>\n",
       "      <td>female</td>\n",
       "      <td>26.0</td>\n",
       "      <td>0</td>\n",
       "      <td>0</td>\n",
       "      <td>STON/O2. 3101282</td>\n",
       "      <td>7.9250</td>\n",
       "      <td>NaN</td>\n",
       "      <td>S</td>\n",
       "    </tr>\n",
       "    <tr>\n",
       "      <th>3</th>\n",
       "      <td>4</td>\n",
       "      <td>1</td>\n",
       "      <td>1</td>\n",
       "      <td>Futrelle, Mrs. Jacques Heath (Lily May Peel)</td>\n",
       "      <td>female</td>\n",
       "      <td>35.0</td>\n",
       "      <td>1</td>\n",
       "      <td>0</td>\n",
       "      <td>113803</td>\n",
       "      <td>53.1000</td>\n",
       "      <td>C123</td>\n",
       "      <td>S</td>\n",
       "    </tr>\n",
       "    <tr>\n",
       "      <th>4</th>\n",
       "      <td>5</td>\n",
       "      <td>0</td>\n",
       "      <td>3</td>\n",
       "      <td>Allen, Mr. William Henry</td>\n",
       "      <td>male</td>\n",
       "      <td>35.0</td>\n",
       "      <td>0</td>\n",
       "      <td>0</td>\n",
       "      <td>373450</td>\n",
       "      <td>8.0500</td>\n",
       "      <td>NaN</td>\n",
       "      <td>S</td>\n",
       "    </tr>\n",
       "    <tr>\n",
       "      <th>...</th>\n",
       "      <td>...</td>\n",
       "      <td>...</td>\n",
       "      <td>...</td>\n",
       "      <td>...</td>\n",
       "      <td>...</td>\n",
       "      <td>...</td>\n",
       "      <td>...</td>\n",
       "      <td>...</td>\n",
       "      <td>...</td>\n",
       "      <td>...</td>\n",
       "      <td>...</td>\n",
       "      <td>...</td>\n",
       "    </tr>\n",
       "    <tr>\n",
       "      <th>886</th>\n",
       "      <td>887</td>\n",
       "      <td>0</td>\n",
       "      <td>2</td>\n",
       "      <td>Montvila, Rev. Juozas</td>\n",
       "      <td>male</td>\n",
       "      <td>27.0</td>\n",
       "      <td>0</td>\n",
       "      <td>0</td>\n",
       "      <td>211536</td>\n",
       "      <td>13.0000</td>\n",
       "      <td>NaN</td>\n",
       "      <td>S</td>\n",
       "    </tr>\n",
       "    <tr>\n",
       "      <th>887</th>\n",
       "      <td>888</td>\n",
       "      <td>1</td>\n",
       "      <td>1</td>\n",
       "      <td>Graham, Miss. Margaret Edith</td>\n",
       "      <td>female</td>\n",
       "      <td>19.0</td>\n",
       "      <td>0</td>\n",
       "      <td>0</td>\n",
       "      <td>112053</td>\n",
       "      <td>30.0000</td>\n",
       "      <td>B42</td>\n",
       "      <td>S</td>\n",
       "    </tr>\n",
       "    <tr>\n",
       "      <th>888</th>\n",
       "      <td>889</td>\n",
       "      <td>0</td>\n",
       "      <td>3</td>\n",
       "      <td>Johnston, Miss. Catherine Helen \"Carrie\"</td>\n",
       "      <td>female</td>\n",
       "      <td>NaN</td>\n",
       "      <td>1</td>\n",
       "      <td>2</td>\n",
       "      <td>W./C. 6607</td>\n",
       "      <td>23.4500</td>\n",
       "      <td>NaN</td>\n",
       "      <td>S</td>\n",
       "    </tr>\n",
       "    <tr>\n",
       "      <th>889</th>\n",
       "      <td>890</td>\n",
       "      <td>1</td>\n",
       "      <td>1</td>\n",
       "      <td>Behr, Mr. Karl Howell</td>\n",
       "      <td>male</td>\n",
       "      <td>26.0</td>\n",
       "      <td>0</td>\n",
       "      <td>0</td>\n",
       "      <td>111369</td>\n",
       "      <td>30.0000</td>\n",
       "      <td>C148</td>\n",
       "      <td>C</td>\n",
       "    </tr>\n",
       "    <tr>\n",
       "      <th>890</th>\n",
       "      <td>891</td>\n",
       "      <td>0</td>\n",
       "      <td>3</td>\n",
       "      <td>Dooley, Mr. Patrick</td>\n",
       "      <td>male</td>\n",
       "      <td>32.0</td>\n",
       "      <td>0</td>\n",
       "      <td>0</td>\n",
       "      <td>370376</td>\n",
       "      <td>7.7500</td>\n",
       "      <td>NaN</td>\n",
       "      <td>Q</td>\n",
       "    </tr>\n",
       "  </tbody>\n",
       "</table>\n",
       "<p>891 rows × 12 columns</p>\n",
       "</div>"
      ],
      "text/plain": [
       "     PassengerId  Survived  Pclass  \\\n",
       "0              1         0       3   \n",
       "1              2         1       1   \n",
       "2              3         1       3   \n",
       "3              4         1       1   \n",
       "4              5         0       3   \n",
       "..           ...       ...     ...   \n",
       "886          887         0       2   \n",
       "887          888         1       1   \n",
       "888          889         0       3   \n",
       "889          890         1       1   \n",
       "890          891         0       3   \n",
       "\n",
       "                                                  Name     Sex   Age  SibSp  \\\n",
       "0                              Braund, Mr. Owen Harris    male  22.0      1   \n",
       "1    Cumings, Mrs. John Bradley (Florence Briggs Th...  female  38.0      1   \n",
       "2                               Heikkinen, Miss. Laina  female  26.0      0   \n",
       "3         Futrelle, Mrs. Jacques Heath (Lily May Peel)  female  35.0      1   \n",
       "4                             Allen, Mr. William Henry    male  35.0      0   \n",
       "..                                                 ...     ...   ...    ...   \n",
       "886                              Montvila, Rev. Juozas    male  27.0      0   \n",
       "887                       Graham, Miss. Margaret Edith  female  19.0      0   \n",
       "888           Johnston, Miss. Catherine Helen \"Carrie\"  female   NaN      1   \n",
       "889                              Behr, Mr. Karl Howell    male  26.0      0   \n",
       "890                                Dooley, Mr. Patrick    male  32.0      0   \n",
       "\n",
       "     Parch            Ticket     Fare Cabin Embarked  \n",
       "0        0         A/5 21171   7.2500   NaN        S  \n",
       "1        0          PC 17599  71.2833   C85        C  \n",
       "2        0  STON/O2. 3101282   7.9250   NaN        S  \n",
       "3        0            113803  53.1000  C123        S  \n",
       "4        0            373450   8.0500   NaN        S  \n",
       "..     ...               ...      ...   ...      ...  \n",
       "886      0            211536  13.0000   NaN        S  \n",
       "887      0            112053  30.0000   B42        S  \n",
       "888      2        W./C. 6607  23.4500   NaN        S  \n",
       "889      0            111369  30.0000  C148        C  \n",
       "890      0            370376   7.7500   NaN        Q  \n",
       "\n",
       "[891 rows x 12 columns]"
      ]
     },
     "execution_count": 67,
     "metadata": {},
     "output_type": "execute_result"
    }
   ],
   "source": [
    "import pandas as pd\n",
    "import numpy as np\n",
    "from sklearn.model_selection import train_test_split\n",
    "import matplotlib.pyplot as plt\n",
    "from sklearn.model_selection import (cross_validate, KFold, ShuffleSplit)\n",
    "import math\n",
    "\n",
    "\n",
    "train_data = pd.read_csv(\"train.csv\")\n",
    "train_data"
   ]
  },
  {
   "cell_type": "markdown",
   "id": "0ba577cc-6ddc-43d3-b242-c15d6256578c",
   "metadata": {},
   "source": [
    "From what I know of the Titanic, I'm going to intuit that perhaps \"women and children\" were the first ones off, along with folks that maybe paid more.\n",
    "\n",
    "So, lets see if there's any relationship between age, sex, fare (how much they paid) and survival\n"
   ]
  },
  {
   "cell_type": "code",
   "execution_count": 68,
   "id": "2d5b40e8-a5fb-4c08-84ce-8227c87e26e9",
   "metadata": {},
   "outputs": [
    {
     "data": {
      "image/png": "[encoded data removed]",
      "text/plain": [
       "<Figure size 640x480 with 1 Axes>"
      ]
     },
     "metadata": {},
     "output_type": "display_data"
    },
    {
     "data": {
      "image/png": "[encoded data removed]",
      "text/plain": [
       "<Figure size 640x480 with 1 Axes>"
      ]
     },
     "metadata": {},
     "output_type": "display_data"
    },
    {
     "data": {
      "image/png": "[encoded data removed]",
      "text/plain": [
       "<Figure size 640x480 with 1 Axes>"
      ]
     },
     "metadata": {},
     "output_type": "display_data"
    },
    {
     "data": {
      "image/png": "[encoded data removed]",
      "text/plain": [
       "<Figure size 640x480 with 1 Axes>"
      ]
     },
     "metadata": {},
     "output_type": "display_data"
    }
   ],
   "source": [
    "train_data.groupby('Sex').Survived.mean().plot(kind='bar')\n",
    "plt.title(\"Survival based on sex\")\n",
    "plt.xlabel(\"Sex\")\n",
    "plt.ylabel(\"Percentage Survived\")\n",
    "plt.show()\n",
    "\n",
    "# Define bins for value ranges\n",
    "agebins = [0, 20, 40, 60, 80, 100]\n",
    "train_data['age_bin'] = pd.cut(train_data['Age'], bins=agebins, right=True)\n",
    "\n",
    "train_data.groupby('age_bin', observed=False).Survived.mean().plot(kind='bar')\n",
    "plt.title(\"Survival based on age range\")\n",
    "plt.xlabel(\"Age\")\n",
    "plt.ylabel(\"Percentage Survived\")\n",
    "plt.show()\n",
    "\n",
    "plt.hist(train_data['Fare'], bins=20, edgecolor='black', alpha=0.7)\n",
    "plt.title(\"Fares Paid\")\n",
    "plt.xlabel(\"Fare Range\")\n",
    "plt.ylabel(\"Count of Passengers\")\n",
    "plt.show()\n",
    "\n",
    "farebins = range(0, 600, 50)\n",
    "train_data['fare_bin'] = pd.cut(train_data['Fare'], bins=farebins, right=True)\n",
    "\n",
    "train_data.groupby('fare_bin', observed=False).Survived.mean().plot(kind='bar')\n",
    "plt.title(\"Survival based on fare range\")\n",
    "plt.xlabel(\"Fare\")\n",
    "plt.ylabel(\"Percentage Survived\")\n",
    "plt.show()\n"
   ]
  },
  {
   "cell_type": "markdown",
   "id": "75c277ef-8ced-4de9-8b84-55eb7b079af0",
   "metadata": {},
   "source": [
    "## Building the first model"
   ]
  },
  {
   "cell_type": "markdown",
   "id": "c3a87970-4ad3-43c0-9723-7d1a7511bdd3",
   "metadata": {},
   "source": [
    "So this tells us that there is definitely a relationship with each of the values here.  After the homework exercises seemed to suggest that decision trees are a good starting point, lets start with those.  Originally I thought about using a RandomForestClassifier, but our dataset is fairly simple, and its not very large.\n",
    "\n",
    "We will start with the following columns:\n",
    "\n",
    "* age\n",
    "* sex\n",
    "* fare paid\n",
    "\n",
    "and see how accurate that will be\n",
    "\n",
    "My original version of this was doing dropna() so that we'd get rid of any numbers that were NA values.  That won't work because our testing data has NAs in it.  Lets fill in those as well.  For now, lets just use zeros."
   ]
  },
  {
   "cell_type": "code",
   "execution_count": 69,
   "id": "8f4c65be-12f9-4726-982a-7ead4f3b71ab",
   "metadata": {},
   "outputs": [
    {
     "data": {
      "text/plain": [
       "(144, 14)"
      ]
     },
     "execution_count": 69,
     "metadata": {},
     "output_type": "execute_result"
    }
   ],
   "source": [
    "# OK, lets convert our dataset to make sure we have numbers for everything - sex right now isn't a number.\n",
    "# We'll need to do this smae processing on our submission data later, so lets make a method\n",
    "def process_data(df):\n",
    "    df = df.copy();\n",
    "    df['sex_int'] = df['Sex'].map({'male': 0, 'female': 1})\n",
    "    df['Age'] = df['Age'].fillna(0);\n",
    "    df['Fare'] = df['Fare'].fillna(0);\n",
    "    return df\n",
    "\n",
    "train_data_processed = process_data(train_data)\n",
    "\n",
    "y = train_data_processed.dropna()['Survived']\n",
    "X = train_data_processed.dropna().drop('Survived', axis=1)\n",
    "\n",
    "\n",
    "X_train, X_test, y_train, y_test = train_test_split(X, y, test_size=0.2, random_state=42)\n",
    "X_train.shape"
   ]
  },
  {
   "cell_type": "markdown",
   "id": "9c8dcc08-a82c-4a52-b27d-e1b71865e370",
   "metadata": {},
   "source": [
    "Lets build an SVC model based on the columns we want to try"
   ]
  },
  {
   "cell_type": "code",
   "execution_count": 70,
   "id": "2a2d9ea0-6f1a-44c3-b76d-6389e8c5e5a0",
   "metadata": {},
   "outputs": [
    {
     "data": {
      "text/html": [
       "<style>#sk-container-id-3 {\n",
       "  /* Definition of color scheme common for light and dark mode */\n",
       "  --sklearn-color-text: #000;\n",
       "  --sklearn-color-text-muted: #666;\n",
       "  --sklearn-color-line: gray;\n",
       "  /* Definition of color scheme for unfitted estimators */\n",
       "  --sklearn-color-unfitted-level-0: #fff5e6;\n",
       "  --sklearn-color-unfitted-level-1: #f6e4d2;\n",
       "  --sklearn-color-unfitted-level-2: #ffe0b3;\n",
       "  --sklearn-color-unfitted-level-3: chocolate;\n",
       "  /* Definition of color scheme for fitted estimators */\n",
       "  --sklearn-color-fitted-level-0: #f0f8ff;\n",
       "  --sklearn-color-fitted-level-1: #d4ebff;\n",
       "  --sklearn-color-fitted-level-2: #b3dbfd;\n",
       "  --sklearn-color-fitted-level-3: cornflowerblue;\n",
       "\n",
       "  /* Specific color for light theme */\n",
       "  --sklearn-color-text-on-default-background: var(--sg-text-color, var(--theme-code-foreground, var(--jp-content-font-color1, black)));\n",
       "  --sklearn-color-background: var(--sg-background-color, var(--theme-background, var(--jp-layout-color0, white)));\n",
       "  --sklearn-color-border-box: var(--sg-text-color, var(--theme-code-foreground, var(--jp-content-font-color1, black)));\n",
       "  --sklearn-color-icon: #696969;\n",
       "\n",
       "  @media (prefers-color-scheme: dark) {\n",
       "    /* Redefinition of color scheme for dark theme */\n",
       "    --sklearn-color-text-on-default-background: var(--sg-text-color, var(--theme-code-foreground, var(--jp-content-font-color1, white)));\n",
       "    --sklearn-color-background: var(--sg-background-color, var(--theme-background, var(--jp-layout-color0, #111)));\n",
       "    --sklearn-color-border-box: var(--sg-text-color, var(--theme-code-foreground, var(--jp-content-font-color1, white)));\n",
       "    --sklearn-color-icon: #878787;\n",
       "  }\n",
       "}\n",
       "\n",
       "#sk-container-id-3 {\n",
       "  color: var(--sklearn-color-text);\n",
       "}\n",
       "\n",
       "#sk-container-id-3 pre {\n",
       "  padding: 0;\n",
       "}\n",
       "\n",
       "#sk-container-id-3 input.sk-hidden--visually {\n",
       "  border: 0;\n",
       "  clip: rect(1px 1px 1px 1px);\n",
       "  clip: rect(1px, 1px, 1px, 1px);\n",
       "  height: 1px;\n",
       "  margin: -1px;\n",
       "  overflow: hidden;\n",
       "  padding: 0;\n",
       "  position: absolute;\n",
       "  width: 1px;\n",
       "}\n",
       "\n",
       "#sk-container-id-3 div.sk-dashed-wrapped {\n",
       "  border: 1px dashed var(--sklearn-color-line);\n",
       "  margin: 0 0.4em 0.5em 0.4em;\n",
       "  box-sizing: border-box;\n",
       "  padding-bottom: 0.4em;\n",
       "  background-color: var(--sklearn-color-background);\n",
       "}\n",
       "\n",
       "#sk-container-id-3 div.sk-container {\n",
       "  /* jupyter's `normalize.less` sets `[hidden] { display: none; }`\n",
       "     but bootstrap.min.css set `[hidden] { display: none !important; }`\n",
       "     so we also need the `!important` here to be able to override the\n",
       "     default hidden behavior on the sphinx rendered scikit-learn.org.\n",
       "     See: https://github.com/scikit-learn/scikit-learn/issues/21755 */\n",
       "  display: inline-block !important;\n",
       "  position: relative;\n",
       "}\n",
       "\n",
       "#sk-container-id-3 div.sk-text-repr-fallback {\n",
       "  display: none;\n",
       "}\n",
       "\n",
       "div.sk-parallel-item,\n",
       "div.sk-serial,\n",
       "div.sk-item {\n",
       "  /* draw centered vertical line to link estimators */\n",
       "  background-image: linear-gradient(var(--sklearn-color-text-on-default-background), var(--sklearn-color-text-on-default-background));\n",
       "  background-size: 2px 100%;\n",
       "  background-repeat: no-repeat;\n",
       "  background-position: center center;\n",
       "}\n",
       "\n",
       "/* Parallel-specific style estimator block */\n",
       "\n",
       "#sk-container-id-3 div.sk-parallel-item::after {\n",
       "  content: \"\";\n",
       "  width: 100%;\n",
       "  border-bottom: 2px solid var(--sklearn-color-text-on-default-background);\n",
       "  flex-grow: 1;\n",
       "}\n",
       "\n",
       "#sk-container-id-3 div.sk-parallel {\n",
       "  display: flex;\n",
       "  align-items: stretch;\n",
       "  justify-content: center;\n",
       "  background-color: var(--sklearn-color-background);\n",
       "  position: relative;\n",
       "}\n",
       "\n",
       "#sk-container-id-3 div.sk-parallel-item {\n",
       "  display: flex;\n",
       "  flex-direction: column;\n",
       "}\n",
       "\n",
       "#sk-container-id-3 div.sk-parallel-item:first-child::after {\n",
       "  align-self: flex-end;\n",
       "  width: 50%;\n",
       "}\n",
       "\n",
       "#sk-container-id-3 div.sk-parallel-item:last-child::after {\n",
       "  align-self: flex-start;\n",
       "  width: 50%;\n",
       "}\n",
       "\n",
       "#sk-container-id-3 div.sk-parallel-item:only-child::after {\n",
       "  width: 0;\n",
       "}\n",
       "\n",
       "/* Serial-specific style estimator block */\n",
       "\n",
       "#sk-container-id-3 div.sk-serial {\n",
       "  display: flex;\n",
       "  flex-direction: column;\n",
       "  align-items: center;\n",
       "  background-color: var(--sklearn-color-background);\n",
       "  padding-right: 1em;\n",
       "  padding-left: 1em;\n",
       "}\n",
       "\n",
       "\n",
       "/* Toggleable style: style used for estimator/Pipeline/ColumnTransformer box that is\n",
       "clickable and can be expanded/collapsed.\n",
       "- Pipeline and ColumnTransformer use this feature and define the default style\n",
       "- Estimators will overwrite some part of the style using the `sk-estimator` class\n",
       "*/\n",
       "\n",
       "/* Pipeline and ColumnTransformer style (default) */\n",
       "\n",
       "#sk-container-id-3 div.sk-toggleable {\n",
       "  /* Default theme specific background. It is overwritten whether we have a\n",
       "  specific estimator or a Pipeline/ColumnTransformer */\n",
       "  background-color: var(--sklearn-color-background);\n",
       "}\n",
       "\n",
       "/* Toggleable label */\n",
       "#sk-container-id-3 label.sk-toggleable__label {\n",
       "  cursor: pointer;\n",
       "  display: flex;\n",
       "  width: 100%;\n",
       "  margin-bottom: 0;\n",
       "  padding: 0.5em;\n",
       "  box-sizing: border-box;\n",
       "  text-align: center;\n",
       "  align-items: start;\n",
       "  justify-content: space-between;\n",
       "  gap: 0.5em;\n",
       "}\n",
       "\n",
       "#sk-container-id-3 label.sk-toggleable__label .caption {\n",
       "  font-size: 0.6rem;\n",
       "  font-weight: lighter;\n",
       "  color: var(--sklearn-color-text-muted);\n",
       "}\n",
       "\n",
       "#sk-container-id-3 label.sk-toggleable__label-arrow:before {\n",
       "  /* Arrow on the left of the label */\n",
       "  content: \"▸\";\n",
       "  float: left;\n",
       "  margin-right: 0.25em;\n",
       "  color: var(--sklearn-color-icon);\n",
       "}\n",
       "\n",
       "#sk-container-id-3 label.sk-toggleable__label-arrow:hover:before {\n",
       "  color: var(--sklearn-color-text);\n",
       "}\n",
       "\n",
       "/* Toggleable content - dropdown */\n",
       "\n",
       "#sk-container-id-3 div.sk-toggleable__content {\n",
       "  max-height: 0;\n",
       "  max-width: 0;\n",
       "  overflow: hidden;\n",
       "  text-align: left;\n",
       "  /* unfitted */\n",
       "  background-color: var(--sklearn-color-unfitted-level-0);\n",
       "}\n",
       "\n",
       "#sk-container-id-3 div.sk-toggleable__content.fitted {\n",
       "  /* fitted */\n",
       "  background-color: var(--sklearn-color-fitted-level-0);\n",
       "}\n",
       "\n",
       "#sk-container-id-3 div.sk-toggleable__content pre {\n",
       "  margin: 0.2em;\n",
       "  border-radius: 0.25em;\n",
       "  color: var(--sklearn-color-text);\n",
       "  /* unfitted */\n",
       "  background-color: var(--sklearn-color-unfitted-level-0);\n",
       "}\n",
       "\n",
       "#sk-container-id-3 div.sk-toggleable__content.fitted pre {\n",
       "  /* unfitted */\n",
       "  background-color: var(--sklearn-color-fitted-level-0);\n",
       "}\n",
       "\n",
       "#sk-container-id-3 input.sk-toggleable__control:checked~div.sk-toggleable__content {\n",
       "  /* Expand drop-down */\n",
       "  max-height: 200px;\n",
       "  max-width: 100%;\n",
       "  overflow: auto;\n",
       "}\n",
       "\n",
       "#sk-container-id-3 input.sk-toggleable__control:checked~label.sk-toggleable__label-arrow:before {\n",
       "  content: \"▾\";\n",
       "}\n",
       "\n",
       "/* Pipeline/ColumnTransformer-specific style */\n",
       "\n",
       "#sk-container-id-3 div.sk-label input.sk-toggleable__control:checked~label.sk-toggleable__label {\n",
       "  color: var(--sklearn-color-text);\n",
       "  background-color: var(--sklearn-color-unfitted-level-2);\n",
       "}\n",
       "\n",
       "#sk-container-id-3 div.sk-label.fitted input.sk-toggleable__control:checked~label.sk-toggleable__label {\n",
       "  background-color: var(--sklearn-color-fitted-level-2);\n",
       "}\n",
       "\n",
       "/* Estimator-specific style */\n",
       "\n",
       "/* Colorize estimator box */\n",
       "#sk-container-id-3 div.sk-estimator input.sk-toggleable__control:checked~label.sk-toggleable__label {\n",
       "  /* unfitted */\n",
       "  background-color: var(--sklearn-color-unfitted-level-2);\n",
       "}\n",
       "\n",
       "#sk-container-id-3 div.sk-estimator.fitted input.sk-toggleable__control:checked~label.sk-toggleable__label {\n",
       "  /* fitted */\n",
       "  background-color: var(--sklearn-color-fitted-level-2);\n",
       "}\n",
       "\n",
       "#sk-container-id-3 div.sk-label label.sk-toggleable__label,\n",
       "#sk-container-id-3 div.sk-label label {\n",
       "  /* The background is the default theme color */\n",
       "  color: var(--sklearn-color-text-on-default-background);\n",
       "}\n",
       "\n",
       "/* On hover, darken the color of the background */\n",
       "#sk-container-id-3 div.sk-label:hover label.sk-toggleable__label {\n",
       "  color: var(--sklearn-color-text);\n",
       "  background-color: var(--sklearn-color-unfitted-level-2);\n",
       "}\n",
       "\n",
       "/* Label box, darken color on hover, fitted */\n",
       "#sk-container-id-3 div.sk-label.fitted:hover label.sk-toggleable__label.fitted {\n",
       "  color: var(--sklearn-color-text);\n",
       "  background-color: var(--sklearn-color-fitted-level-2);\n",
       "}\n",
       "\n",
       "/* Estimator label */\n",
       "\n",
       "#sk-container-id-3 div.sk-label label {\n",
       "  font-family: monospace;\n",
       "  font-weight: bold;\n",
       "  display: inline-block;\n",
       "  line-height: 1.2em;\n",
       "}\n",
       "\n",
       "#sk-container-id-3 div.sk-label-container {\n",
       "  text-align: center;\n",
       "}\n",
       "\n",
       "/* Estimator-specific */\n",
       "#sk-container-id-3 div.sk-estimator {\n",
       "  font-family: monospace;\n",
       "  border: 1px dotted var(--sklearn-color-border-box);\n",
       "  border-radius: 0.25em;\n",
       "  box-sizing: border-box;\n",
       "  margin-bottom: 0.5em;\n",
       "  /* unfitted */\n",
       "  background-color: var(--sklearn-color-unfitted-level-0);\n",
       "}\n",
       "\n",
       "#sk-container-id-3 div.sk-estimator.fitted {\n",
       "  /* fitted */\n",
       "  background-color: var(--sklearn-color-fitted-level-0);\n",
       "}\n",
       "\n",
       "/* on hover */\n",
       "#sk-container-id-3 div.sk-estimator:hover {\n",
       "  /* unfitted */\n",
       "  background-color: var(--sklearn-color-unfitted-level-2);\n",
       "}\n",
       "\n",
       "#sk-container-id-3 div.sk-estimator.fitted:hover {\n",
       "  /* fitted */\n",
       "  background-color: var(--sklearn-color-fitted-level-2);\n",
       "}\n",
       "\n",
       "/* Specification for estimator info (e.g. \"i\" and \"?\") */\n",
       "\n",
       "/* Common style for \"i\" and \"?\" */\n",
       "\n",
       ".sk-estimator-doc-link,\n",
       "a:link.sk-estimator-doc-link,\n",
       "a:visited.sk-estimator-doc-link {\n",
       "  float: right;\n",
       "  font-size: smaller;\n",
       "  line-height: 1em;\n",
       "  font-family: monospace;\n",
       "  background-color: var(--sklearn-color-background);\n",
       "  border-radius: 1em;\n",
       "  height: 1em;\n",
       "  width: 1em;\n",
       "  text-decoration: none !important;\n",
       "  margin-left: 0.5em;\n",
       "  text-align: center;\n",
       "  /* unfitted */\n",
       "  border: var(--sklearn-color-unfitted-level-1) 1pt solid;\n",
       "  color: var(--sklearn-color-unfitted-level-1);\n",
       "}\n",
       "\n",
       ".sk-estimator-doc-link.fitted,\n",
       "a:link.sk-estimator-doc-link.fitted,\n",
       "a:visited.sk-estimator-doc-link.fitted {\n",
       "  /* fitted */\n",
       "  border: var(--sklearn-color-fitted-level-1) 1pt solid;\n",
       "  color: var(--sklearn-color-fitted-level-1);\n",
       "}\n",
       "\n",
       "/* On hover */\n",
       "div.sk-estimator:hover .sk-estimator-doc-link:hover,\n",
       ".sk-estimator-doc-link:hover,\n",
       "div.sk-label-container:hover .sk-estimator-doc-link:hover,\n",
       ".sk-estimator-doc-link:hover {\n",
       "  /* unfitted */\n",
       "  background-color: var(--sklearn-color-unfitted-level-3);\n",
       "  color: var(--sklearn-color-background);\n",
       "  text-decoration: none;\n",
       "}\n",
       "\n",
       "div.sk-estimator.fitted:hover .sk-estimator-doc-link.fitted:hover,\n",
       ".sk-estimator-doc-link.fitted:hover,\n",
       "div.sk-label-container:hover .sk-estimator-doc-link.fitted:hover,\n",
       ".sk-estimator-doc-link.fitted:hover {\n",
       "  /* fitted */\n",
       "  background-color: var(--sklearn-color-fitted-level-3);\n",
       "  color: var(--sklearn-color-background);\n",
       "  text-decoration: none;\n",
       "}\n",
       "\n",
       "/* Span, style for the box shown on hovering the info icon */\n",
       ".sk-estimator-doc-link span {\n",
       "  display: none;\n",
       "  z-index: 9999;\n",
       "  position: relative;\n",
       "  font-weight: normal;\n",
       "  right: .2ex;\n",
       "  padding: .5ex;\n",
       "  margin: .5ex;\n",
       "  width: min-content;\n",
       "  min-width: 20ex;\n",
       "  max-width: 50ex;\n",
       "  color: var(--sklearn-color-text);\n",
       "  box-shadow: 2pt 2pt 4pt #999;\n",
       "  /* unfitted */\n",
       "  background: var(--sklearn-color-unfitted-level-0);\n",
       "  border: .5pt solid var(--sklearn-color-unfitted-level-3);\n",
       "}\n",
       "\n",
       ".sk-estimator-doc-link.fitted span {\n",
       "  /* fitted */\n",
       "  background: var(--sklearn-color-fitted-level-0);\n",
       "  border: var(--sklearn-color-fitted-level-3);\n",
       "}\n",
       "\n",
       ".sk-estimator-doc-link:hover span {\n",
       "  display: block;\n",
       "}\n",
       "\n",
       "/* \"?\"-specific style due to the `<a>` HTML tag */\n",
       "\n",
       "#sk-container-id-3 a.estimator_doc_link {\n",
       "  float: right;\n",
       "  font-size: 1rem;\n",
       "  line-height: 1em;\n",
       "  font-family: monospace;\n",
       "  background-color: var(--sklearn-color-background);\n",
       "  border-radius: 1rem;\n",
       "  height: 1rem;\n",
       "  width: 1rem;\n",
       "  text-decoration: none;\n",
       "  /* unfitted */\n",
       "  color: var(--sklearn-color-unfitted-level-1);\n",
       "  border: var(--sklearn-color-unfitted-level-1) 1pt solid;\n",
       "}\n",
       "\n",
       "#sk-container-id-3 a.estimator_doc_link.fitted {\n",
       "  /* fitted */\n",
       "  border: var(--sklearn-color-fitted-level-1) 1pt solid;\n",
       "  color: var(--sklearn-color-fitted-level-1);\n",
       "}\n",
       "\n",
       "/* On hover */\n",
       "#sk-container-id-3 a.estimator_doc_link:hover {\n",
       "  /* unfitted */\n",
       "  background-color: var(--sklearn-color-unfitted-level-3);\n",
       "  color: var(--sklearn-color-background);\n",
       "  text-decoration: none;\n",
       "}\n",
       "\n",
       "#sk-container-id-3 a.estimator_doc_link.fitted:hover {\n",
       "  /* fitted */\n",
       "  background-color: var(--sklearn-color-fitted-level-3);\n",
       "}\n",
       "</style><div id=\"sk-container-id-3\" class=\"sk-top-container\"><div class=\"sk-text-repr-fallback\"><pre>DecisionTreeClassifier()</pre><b>In a Jupyter environment, please rerun this cell to show the HTML representation or trust the notebook. <br />On GitHub, the HTML representation is unable to render, please try loading this page with nbviewer.org.</b></div><div class=\"sk-container\" hidden><div class=\"sk-item\"><div class=\"sk-estimator fitted sk-toggleable\"><input class=\"sk-toggleable__control sk-hidden--visually\" id=\"sk-estimator-id-3\" type=\"checkbox\" checked><label for=\"sk-estimator-id-3\" class=\"sk-toggleable__label fitted sk-toggleable__label-arrow\"><div><div>DecisionTreeClassifier</div></div><div><a class=\"sk-estimator-doc-link fitted\" rel=\"noreferrer\" target=\"_blank\" href=\"https://scikit-learn.org/1.6/modules/generated/sklearn.tree.DecisionTreeClassifier.html\">?<span>Documentation for DecisionTreeClassifier</span></a><span class=\"sk-estimator-doc-link fitted\">i<span>Fitted</span></span></div></label><div class=\"sk-toggleable__content fitted\"><pre>DecisionTreeClassifier()</pre></div> </div></div></div></div>"
      ],
      "text/plain": [
       "DecisionTreeClassifier()"
      ]
     },
     "execution_count": 70,
     "metadata": {},
     "output_type": "execute_result"
    }
   ],
   "source": [
    "from sklearn.tree import DecisionTreeClassifier\n",
    "\n",
    "columns = ['sex_int', 'Fare', 'Age']\n",
    "\n",
    "decision_tree = DecisionTreeClassifier()\n",
    "decision_tree.fit(X_train[columns], y_train)"
   ]
  },
  {
   "cell_type": "code",
   "execution_count": 71,
   "id": "bd553c82-25ed-4e0d-9b10-c112340de99a",
   "metadata": {},
   "outputs": [
    {
     "name": "stdout",
     "output_type": "stream",
     "text": [
      "0.7567567567567568\n"
     ]
    }
   ],
   "source": [
    "# Lets see how we did\n",
    "score = decision_tree.score(X_test[columns], y_test)\n",
    "print(score)"
   ]
  },
  {
   "cell_type": "markdown",
   "id": "8def758d-19fc-4cdc-9f5a-16f9c52ae687",
   "metadata": {},
   "source": [
    "Now lets run our testing data through the same thing and create a prediction file"
   ]
  },
  {
   "cell_type": "code",
   "execution_count": 72,
   "id": "9fce8876-40d0-4041-8e0c-81aa65a0a489",
   "metadata": {},
   "outputs": [],
   "source": [
    "test_file = pd.read_csv(\"test.csv\")\n",
    "#print(test_file)\n",
    "\n",
    "test_data = process_data(test_file)\n",
    "answers = decision_tree.predict(test_data[columns])\n",
    "\n",
    "final_data = pd.DataFrame()\n",
    "final_data['PassengerId'] = test_data['PassengerId']\n",
    "final_data['Survived'] = answers\n",
    "\n",
    "final_data.to_csv('decisiontree_output1.csv', index=False)"
   ]
  },
  {
   "cell_type": "markdown",
   "id": "a9aa2622-2f4a-4a8f-99cd-1314955cc7ea",
   "metadata": {},
   "source": [
    "## Model Results\n",
    "\n",
    "Ok.  So that model - against our segmented test data did ok (~70%).  But against the data in the competition did significantly worse (56%).  I'd like to try some things things:\n",
    "\n",
    "* Change our model - maybe use an SVM\n",
    "* Check our hyper-parameters on the model\n",
    "* Add some more fields to the training set (Maybe working with Class of Service, And # of family members (both parents and children/spouses))\n",
    "* If we can't figure anything else out, maybe we can change the way we predict the missing age data - since that seems to have a pretty big impact based on our exploration - maybe there are a ton of zeroes in the test data?\n"
   ]
  },
  {
   "cell_type": "code",
   "execution_count": 73,
   "id": "9289867f-a91b-43d9-baa6-d4a7d68694ed",
   "metadata": {},
   "outputs": [
    {
     "name": "stdout",
     "output_type": "stream",
     "text": [
      "linear Kernel Score:  0.7567567567567568\n",
      "poly Kernel Score:  0.5405405405405406\n",
      "rbf Kernel Score:  0.5405405405405406\n",
      "sigmoid Kernel Score:  0.5405405405405406\n"
     ]
    }
   ],
   "source": [
    "# So lets try a bunch of SVMs - we'll try all the kernels to see which is best.\n",
    "# Lets play with some hyperparameters, and the same data\n",
    "from sklearn.svm import SVC\n",
    "\n",
    "for kernel in [\"linear\", \"poly\", \"rbf\", \"sigmoid\" ] :\n",
    "    svm_kernel = SVC(kernel=kernel)\n",
    "    svm_kernel.fit(X_train[columns], y_train)\n",
    "    score = svm_kernel.score(X_test[columns], y_test)\n",
    "    print(kernel + \" Kernel Score: \", score)"
   ]
  },
  {
   "cell_type": "markdown",
   "id": "856b8543-b6b4-47df-8129-7458d74d1c22",
   "metadata": {},
   "source": [
    "Ok, using the same columns for predictions as a decision tree, our svm seems to give slightly better performance (75% vs 70%) with the linear kernel.\n",
    "\n",
    "So at least for the kernel, our guess at using a linear kernel seems to be right with the other default hyperparameters.  The other main hyperparameter seems to be C"
   ]
  },
  {
   "cell_type": "code",
   "execution_count": 74,
   "id": "ac3a0e96-51c5-4745-8336-babe77d2cab3",
   "metadata": {},
   "outputs": [
    {
     "name": "stdout",
     "output_type": "stream",
     "text": [
      "1.0  C score:  0.7567567567567568\n",
      "5.0  C score:  0.7567567567567568\n",
      "10.0  C score:  0.7567567567567568\n",
      "50.0  C score:  0.7567567567567568\n",
      "100.0  C score:  0.7567567567567568\n"
     ]
    }
   ],
   "source": [
    "for c in [ 1.0, 5.0, 10.0, 50.0, 100.0 ] :\n",
    "    svm_c = SVC(kernel='linear', C=c)\n",
    "    svm_c.fit(X_train[columns], y_train)\n",
    "    score = svm_c.score(X_test[columns], y_test)\n",
    "    print(c, \" C score: \", score)"
   ]
  },
  {
   "cell_type": "markdown",
   "id": "394429f4-acee-43db-8911-0f9a9bdf2bfa",
   "metadata": {},
   "source": [
    "OK.  So that didn't seem to make any difference at all.  Lets move onto changing our data"
   ]
  },
  {
   "cell_type": "code",
   "execution_count": 75,
   "id": "5060d0f6-6d3b-4c7b-bab9-e3e65f9626f8",
   "metadata": {},
   "outputs": [
    {
     "name": "stdout",
     "output_type": "stream",
     "text": [
      "Added columns, score =  0.7297297297297297\n"
     ]
    }
   ],
   "source": [
    "columns2 = ['sex_int', 'Fare', 'Age', 'SibSp', 'Parch']\n",
    "svm_model2 = SVC(kernel='linear', C=1.0)\n",
    "svm_model2.fit(X_train[columns2], y_train)\n",
    "score = svm_model2.score(X_test[columns2], y_test)\n",
    "print(\"Added columns, score = \", score)\n"
   ]
  },
  {
   "cell_type": "markdown",
   "id": "cdab2c85-024d-4642-a5f7-cd5502348215",
   "metadata": {},
   "source": [
    "So that is really interesting - we have actually made the model worse by adding those fields.  What if we also add Pclass"
   ]
  },
  {
   "cell_type": "code",
   "execution_count": 76,
   "id": "ecb68574-50c2-47ec-bd59-edc958e609d7",
   "metadata": {},
   "outputs": [
    {
     "name": "stdout",
     "output_type": "stream",
     "text": [
      "Added columns, score =  0.7567567567567568\n"
     ]
    }
   ],
   "source": [
    "columns2 = ['sex_int', 'Fare', 'Age', 'SibSp', 'Parch', 'Pclass']\n",
    "svm_model2 = SVC(kernel='linear', C=1.0)\n",
    "svm_model2.fit(X_train[columns2], y_train)\n",
    "score = svm_model2.score(X_test[columns2], y_test)\n",
    "print(\"Added columns, score = \", score)\n"
   ]
  },
  {
   "cell_type": "markdown",
   "id": "013e1f2e-68b4-4b38-a047-01fc62e9f8f7",
   "metadata": {},
   "source": [
    "Ok, back to ~75%.  Maybe we have some other fields that are making things worse... can we check to see which fields are useful and which aren't?"
   ]
  },
  {
   "cell_type": "code",
   "execution_count": 77,
   "id": "c3294a73-c351-41fa-985d-bbfc44ab8098",
   "metadata": {},
   "outputs": [
    {
     "name": "stdout",
     "output_type": "stream",
     "text": [
      "Dropped Col =  sex_int , score =  0.5405405405405406\n",
      "Dropped Col =  Fare , score =  0.7567567567567568\n",
      "Dropped Col =  Age , score =  0.7567567567567568\n",
      "Dropped Col =  SibSp , score =  0.7567567567567568\n",
      "Dropped Col =  Parch , score =  0.7297297297297297\n",
      "Dropped Col =  Pclass , score =  0.7297297297297297\n"
     ]
    }
   ],
   "source": [
    "for i in range(0,6):\n",
    "    cols=columns2.copy()\n",
    "    dropped = cols[i]\n",
    "    del cols[i]\n",
    "    svm_model2 = SVC(kernel='linear', C=1.0)\n",
    "    svm_model2.fit(X_train[cols], y_train)\n",
    "    score = svm_model2.score(X_test[cols], y_test)\n",
    "    print(\"Dropped Col = \", dropped, \", score = \", score)\n",
    "    "
   ]
  },
  {
   "cell_type": "markdown",
   "id": "ad5f17ff-3f45-40e5-97c0-c81537f04d85",
   "metadata": {},
   "source": [
    "Seems like the most important columns are sex, Parch and Pclass, what happens if we just use those?"
   ]
  },
  {
   "cell_type": "code",
   "execution_count": 78,
   "id": "b7ccbf66-3989-4f38-8381-fbdf61430dd2",
   "metadata": {},
   "outputs": [
    {
     "name": "stdout",
     "output_type": "stream",
     "text": [
      "Only 3 columns, score =  0.7567567567567568\n"
     ]
    }
   ],
   "source": [
    "columns3 = ['sex_int', 'Parch', 'Pclass']\n",
    "svm_model3 = SVC(kernel='linear', C=1.0)\n",
    "svm_model3.fit(X_train[columns3], y_train)\n",
    "score = svm_model3.score(X_test[columns3], y_test)\n",
    "print(\"Only 3 columns, score = \", score)\n"
   ]
  },
  {
   "cell_type": "markdown",
   "id": "210ed450-aaf9-4bfc-8f19-740cb99a3abf",
   "metadata": {},
   "source": [
    "## Fililng in the missing data\n",
    "\n",
    "Seems really strange that age doesn't seem predictive - especially given what we saw in the original data.  Right now we're just setting age to zero if we don't know it.  What if we set it to the mean of age, or if we try and predict the age from the other values - seems like the number of siblings/parents might have some value here.  While we are at it, set the fare to mean as well."
   ]
  },
  {
   "cell_type": "code",
   "execution_count": 79,
   "id": "d2c59e90-5859-47d9-8ff7-6a5d1510bbcb",
   "metadata": {},
   "outputs": [
    {
     "data": {
      "text/plain": [
       "(144, 14)"
      ]
     },
     "execution_count": 79,
     "metadata": {},
     "output_type": "execute_result"
    }
   ],
   "source": [
    "# OK, lets convert our dataset to make sure we have numbers for everything - sex right now isn't a number.\n",
    "# We'll need to do this smae processing on our submission data later, so lets make a method\n",
    "def process_data_mean(df):\n",
    "    df = df.copy();\n",
    "    df['sex_int'] = df['Sex'].map({'male': 0, 'female': 1})\n",
    "    df['Age'] = df['Age'].fillna(df['Age'].mean());\n",
    "    df['Fare'] = df['Fare'].fillna(df['Fare'].mean());\n",
    "    return df\n",
    "    \n",
    "train_data_processed = process_data_mean(train_data)\n",
    "y = train_data_processed.dropna()['Survived']\n",
    "X = train_data_processed.dropna().drop('Survived', axis=1)\n",
    "\n",
    "X_train, X_test, y_train, y_test = train_test_split(X, y, test_size=0.2, random_state=42)\n",
    "X_train.shape\n"
   ]
  },
  {
   "cell_type": "code",
   "execution_count": 80,
   "id": "0f0e1947-6c9f-4aa5-9741-3164139ab66d",
   "metadata": {},
   "outputs": [
    {
     "name": "stdout",
     "output_type": "stream",
     "text": [
      "Age set to mean, score =  0.7297297297297297\n"
     ]
    }
   ],
   "source": [
    "columns4 = ['sex_int', 'Parch', 'Pclass', 'Age']\n",
    "svm_model4 = SVC(kernel='linear', C=1.0)\n",
    "svm_model4.fit(X_train[columns4], y_train)\n",
    "score = svm_model4.score(X_test[columns4], y_test)\n",
    "print(\"Age set to mean, score = \", score)\n"
   ]
  },
  {
   "cell_type": "markdown",
   "id": "10d3a81d-1166-46c3-9f50-178a62c9a160",
   "metadata": {},
   "source": [
    "OK, now that is promising.  Moving the needle a little bit.  What about Fare?"
   ]
  },
  {
   "cell_type": "code",
   "execution_count": 81,
   "id": "796f3454-3e74-4171-95ad-6100089554fc",
   "metadata": {},
   "outputs": [
    {
     "name": "stdout",
     "output_type": "stream",
     "text": [
      "Fare set to mean, score =  0.7567567567567568\n"
     ]
    }
   ],
   "source": [
    "columns5 = ['sex_int', 'Parch', 'Pclass', 'Fare']\n",
    "svm_model5 = SVC(kernel='linear', C=1.0)\n",
    "svm_model5.fit(X_train[columns5], y_train)\n",
    "score = svm_model5.score(X_test[columns5], y_test)\n",
    "print(\"Fare set to mean, score = \", score)\n"
   ]
  },
  {
   "cell_type": "markdown",
   "id": "8b128a15-75d9-4144-9e58-02386de5d94f",
   "metadata": {},
   "source": [
    "Now with both?"
   ]
  },
  {
   "cell_type": "code",
   "execution_count": 82,
   "id": "02a2212d-6896-4caf-8ef2-3371adaaaf1f",
   "metadata": {},
   "outputs": [
    {
     "name": "stdout",
     "output_type": "stream",
     "text": [
      "Age and Fare set to mean, score =  0.7567567567567568\n"
     ]
    }
   ],
   "source": [
    "columns6 = ['sex_int', 'Parch', 'Pclass', 'Fare', 'Age']\n",
    "svm_model6 = SVC(kernel='linear', C=1.0)\n",
    "svm_model6.fit(X_train[columns6], y_train)\n",
    "score = svm_model6.score(X_test[columns6], y_test)\n",
    "print(\"Age and Fare set to mean, score = \", score)\n"
   ]
  },
  {
   "cell_type": "markdown",
   "id": "fc59db5b-d194-4004-8764-27fba5aeffd4",
   "metadata": {},
   "source": [
    "Well, lets see if that helps at all with our scoring in the other test data"
   ]
  },
  {
   "cell_type": "code",
   "execution_count": 83,
   "id": "8d95d9f4-8e7c-43b8-bedf-4c2bba292c29",
   "metadata": {},
   "outputs": [],
   "source": [
    "test_file = pd.read_csv(\"test.csv\")\n",
    "\n",
    "test_data = process_data(test_file)\n",
    "answers = svm_model6.predict(test_data[columns6])\n",
    "\n",
    "final_data = pd.DataFrame()\n",
    "final_data['PassengerId'] = test_data['PassengerId']\n",
    "final_data['Survived'] = answers\n",
    "\n",
    "final_data.to_csv('model6_output.csv', index=False)"
   ]
  },
  {
   "cell_type": "markdown",
   "id": "21b5132a-80de-477e-a1bc-a5a8d12a94d0",
   "metadata": {},
   "source": [
    "Ok.  Last try - lets use the new updated data and columns and see if a decision tree would do better (and maybe our SVM isn't the right model):"
   ]
  },
  {
   "cell_type": "code",
   "execution_count": 84,
   "id": "50007495-0a99-4f9f-8929-3cbc038e6116",
   "metadata": {},
   "outputs": [
    {
     "name": "stdout",
     "output_type": "stream",
     "text": [
      "Decision Tree with update columns =  0.7027027027027027\n"
     ]
    }
   ],
   "source": [
    "columns7 = ['sex_int', 'Parch', 'Pclass', 'Fare', 'Age']\n",
    "decision_tree7 = DecisionTreeClassifier()\n",
    "decision_tree7.fit(X_train[columns7], y_train)\n",
    "score = decision_tree7.score(X_test[columns7], y_test)\n",
    "print(\"Decision Tree with update columns = \", score)\n",
    "\n",
    "test_file = pd.read_csv(\"test.csv\")\n",
    "\n",
    "test_data = process_data(test_file)\n",
    "answers = decision_tree7.predict(test_data[columns7])\n",
    "\n",
    "final_data = pd.DataFrame()\n",
    "final_data['PassengerId'] = test_data['PassengerId']\n",
    "final_data['Survived'] = answers\n",
    "\n",
    "final_data.to_csv('model7_output.csv', index=False)"
   ]
  },
  {
   "cell_type": "markdown",
   "id": "a4d327b1-e801-4586-a670-d715be339ebf",
   "metadata": {},
   "source": [
    "Score doesn't seem great, lets see our submission... Only 54%, so we're defintiely doing better with the SVM.  Going to call it here."
   ]
  }
 ],
 "metadata": {
  "kernelspec": {
   "display_name": "Python 3 (ipykernel)",
   "language": "python",
   "name": "python3"
  },
  "language_info": {
   "codemirror_mode": {
    "name": "ipython",
    "version": 3
   },
   "file_extension": ".py",
   "mimetype": "text/x-python",
   "name": "python",
   "nbconvert_exporter": "python",
   "pygments_lexer": "ipython3",
   "version": "3.13.2"
  }
 },
 "nbformat": 4,
 "nbformat_minor": 5
}
