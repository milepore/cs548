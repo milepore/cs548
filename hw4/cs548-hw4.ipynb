{
 "cells": [
  {
   "cell_type": "markdown",
   "id": "99ea178b-f6fd-42ef-9122-7afa9d6cdffb",
   "metadata": {},
   "source": [
    "Michael Lepore\n",
    "CS548 - HW4 - MSINT Classifier\n",
    "\n",
    "## Model 1\n",
    "\n",
    "I've used LR (among other things) in the past with MSINT and it had shown pretty good test/train accuracy,\n",
    "so lets start with that - so we can setup the code and have a first model accuracy - that will give us things to compare to - before we move onto other things\n"
   ]
  },
  {
   "cell_type": "code",
   "execution_count": 1,
   "id": "9e250ee8-b774-4530-8290-64733da6c813",
   "metadata": {},
   "outputs": [
    {
     "name": "stderr",
     "output_type": "stream",
     "text": [
      "/opt/anaconda3/envs/tf/lib/python3.11/site-packages/sklearn/linear_model/_linear_loss.py:203: RuntimeWarning: divide by zero encountered in matmul\n",
      "  raw_prediction = X @ weights.T + intercept  # ndarray, likely C-contiguous\n",
      "/opt/anaconda3/envs/tf/lib/python3.11/site-packages/sklearn/linear_model/_linear_loss.py:203: RuntimeWarning: overflow encountered in matmul\n",
      "  raw_prediction = X @ weights.T + intercept  # ndarray, likely C-contiguous\n",
      "/opt/anaconda3/envs/tf/lib/python3.11/site-packages/sklearn/linear_model/_linear_loss.py:203: RuntimeWarning: invalid value encountered in matmul\n",
      "  raw_prediction = X @ weights.T + intercept  # ndarray, likely C-contiguous\n",
      "/opt/anaconda3/envs/tf/lib/python3.11/site-packages/sklearn/linear_model/_linear_loss.py:336: RuntimeWarning: divide by zero encountered in matmul\n",
      "  grad[:, :n_features] = grad_pointwise.T @ X + l2_reg_strength * weights\n",
      "/opt/anaconda3/envs/tf/lib/python3.11/site-packages/sklearn/linear_model/_linear_loss.py:336: RuntimeWarning: overflow encountered in matmul\n",
      "  grad[:, :n_features] = grad_pointwise.T @ X + l2_reg_strength * weights\n",
      "/opt/anaconda3/envs/tf/lib/python3.11/site-packages/sklearn/linear_model/_linear_loss.py:336: RuntimeWarning: invalid value encountered in matmul\n",
      "  grad[:, :n_features] = grad_pointwise.T @ X + l2_reg_strength * weights\n"
     ]
    },
    {
     "name": "stdout",
     "output_type": "stream",
     "text": [
      "Training accuracy:  0.945625\n",
      "Test accuracy:  0.919404761904762\n"
     ]
    },
    {
     "name": "stderr",
     "output_type": "stream",
     "text": [
      "/opt/anaconda3/envs/tf/lib/python3.11/site-packages/sklearn/utils/extmath.py:203: RuntimeWarning: divide by zero encountered in matmul\n",
      "  ret = a @ b\n",
      "/opt/anaconda3/envs/tf/lib/python3.11/site-packages/sklearn/utils/extmath.py:203: RuntimeWarning: overflow encountered in matmul\n",
      "  ret = a @ b\n",
      "/opt/anaconda3/envs/tf/lib/python3.11/site-packages/sklearn/utils/extmath.py:203: RuntimeWarning: invalid value encountered in matmul\n",
      "  ret = a @ b\n",
      "/opt/anaconda3/envs/tf/lib/python3.11/site-packages/sklearn/utils/extmath.py:203: RuntimeWarning: divide by zero encountered in matmul\n",
      "  ret = a @ b\n",
      "/opt/anaconda3/envs/tf/lib/python3.11/site-packages/sklearn/utils/extmath.py:203: RuntimeWarning: overflow encountered in matmul\n",
      "  ret = a @ b\n",
      "/opt/anaconda3/envs/tf/lib/python3.11/site-packages/sklearn/utils/extmath.py:203: RuntimeWarning: invalid value encountered in matmul\n",
      "  ret = a @ b\n"
     ]
    }
   ],
   "source": [
    "import pandas as pd\n",
    "import numpy as np\n",
    "\n",
    "from sklearn.model_selection import train_test_split\n",
    "from sklearn.linear_model import LogisticRegression\n",
    "from sklearn.metrics import accuracy_score\n",
    "from sklearn.preprocessing import LabelEncoder, StandardScaler\n",
    "\n",
    "train_data = pd.read_csv(\"train.csv\")\n",
    "\n",
    "# lets first bring out data along\n",
    "y = train_data['label']\n",
    "X = train_data.drop('label', axis=1)\n",
    "\n",
    "# now lets split to test/train\n",
    "X_train, X_test, y_train, y_test = train_test_split(X, y, test_size=0.2, random_state=42)\n",
    "\n",
    "# lets setup the code framework for a base model and go from there.\n",
    "def run_model(model, data):\n",
    "    data_processed = preprocess_X(data)\n",
    "    results = model.predict(data_processed)\n",
    "    return postprocess_predictions(results)\n",
    "\n",
    "def preprocess_X(data):\n",
    "    # I've had luck normalizing the pixel values to 0-1 in the past\n",
    "    preprocessed_data = data.astype(float) / 255\n",
    "    return preprocessed_data\n",
    "\n",
    "def postprocess_predictions(predictions):\n",
    "    return predictions\n",
    "\n",
    "def preprocess_y(y_train):\n",
    "    return y_train\n",
    "\n",
    "def train_model(X_train, y_train):\n",
    "    X_train_preprocess = preprocess_X(X_train)\n",
    "    y_train_preprocess = preprocess_y(y_train)\n",
    "    \n",
    "    # Initialize and train the Logistic Regression model\n",
    "    lr_model = LogisticRegression(max_iter=1000) # Increased max_iter\n",
    "    lr_model.fit(X_train_preprocess, y_train_preprocess)\n",
    "\n",
    "    train_predictions = lr_model.predict(X_train_preprocess)\n",
    "    train_accuracy = accuracy_score(y_train_preprocess, train_predictions)\n",
    "\n",
    "    print(\"Training accuracy: \", train_accuracy)\n",
    "\n",
    "    return lr_model\n",
    "\n",
    "lr_model = train_model(X_train, y_train)\n",
    "lr_predictions = run_model(lr_model, X_test)\n",
    "y_test_preprocess = preprocess_y(y_test)\n",
    "lr_test_accuracy = accuracy_score(y_test_preprocess, lr_predictions)\n",
    "\n",
    "print(\"Test accuracy: \", lr_test_accuracy)\n"
   ]
  },
  {
   "cell_type": "code",
   "execution_count": 2,
   "id": "c9236305-e4c6-4dc4-8010-dd9c5006d3c7",
   "metadata": {},
   "outputs": [
    {
     "name": "stderr",
     "output_type": "stream",
     "text": [
      "/opt/anaconda3/envs/tf/lib/python3.11/site-packages/sklearn/utils/extmath.py:203: RuntimeWarning: divide by zero encountered in matmul\n",
      "  ret = a @ b\n",
      "/opt/anaconda3/envs/tf/lib/python3.11/site-packages/sklearn/utils/extmath.py:203: RuntimeWarning: overflow encountered in matmul\n",
      "  ret = a @ b\n",
      "/opt/anaconda3/envs/tf/lib/python3.11/site-packages/sklearn/utils/extmath.py:203: RuntimeWarning: invalid value encountered in matmul\n",
      "  ret = a @ b\n"
     ]
    }
   ],
   "source": [
    "# Ok - we have a very basic model - seems to do well on our test data, so now lets run the\n",
    "# model against our test data and submit it and see how we do\n",
    "\n",
    "test_data = pd.read_csv(\"test.csv\")\n",
    "\n",
    "def create_submission_file(model, filename):\n",
    "    labels = run_model(model, test_data)\n",
    "    df = pd.DataFrame( {\n",
    "        'ImageId' : range(1, len(labels) + 1),\n",
    "        'Label' : labels\n",
    "        })\n",
    "    df.to_csv(filename, index=False)\n",
    "\n",
    "create_submission_file(lr_model, 'lr_submission_file.csv')\n",
    "\n"
   ]
  },
  {
   "cell_type": "markdown",
   "id": "1a30638d-918a-4925-97b2-4570aefab89c",
   "metadata": {},
   "source": [
    "Ok, we have our first submission.  91.775%.  Not terrible, but not really good either (#1146 on the leaderboard).\n",
    "\n",
    "![image](sub1.png)"
   ]
  },
  {
   "cell_type": "markdown",
   "id": "4c10b8dd-fa88-4b54-89ad-69728abe5229",
   "metadata": {},
   "source": [
    "Now that we have a basic code framework that does:\n",
    "\n",
    "1 - Preprocessing (though very basic - just converting the pixel value to from 0-255 to a 0-1 scale)\n",
    "2 - Training and accuracy comparison - both on the training set and our test set\n",
    "\n",
    "We can start to progress and see what else we can do.  This time, lets start building a CNN instead."
   ]
  },
  {
   "cell_type": "markdown",
   "id": "f5544494-0ae2-4ce8-b019-433aff3bf0c4",
   "metadata": {},
   "source": [
    "## Model 2 CNN\n",
    "\n",
    "Lets start with a basic CNN - we'll use a 3x3 filter"
   ]
  },
  {
   "cell_type": "code",
   "execution_count": 3,
   "id": "79a3b7a0-15fa-4484-9051-c28b12b2b357",
   "metadata": {},
   "outputs": [
    {
     "name": "stdout",
     "output_type": "stream",
     "text": [
      "Epoch 1/15\n"
     ]
    },
    {
     "name": "stderr",
     "output_type": "stream",
     "text": [
      "/opt/anaconda3/envs/tf/lib/python3.11/site-packages/keras/src/layers/convolutional/base_conv.py:113: UserWarning: Do not pass an `input_shape`/`input_dim` argument to a layer. When using Sequential models, prefer using an `Input(shape)` object as the first layer in the model instead.\n",
      "  super().__init__(activity_regularizer=activity_regularizer, **kwargs)\n"
     ]
    },
    {
     "name": "stdout",
     "output_type": "stream",
     "text": [
      "\u001b[1m237/237\u001b[0m \u001b[32m━━━━━━━━━━━━━━━━━━━━\u001b[0m\u001b[37m\u001b[0m \u001b[1m2s\u001b[0m 9ms/step - accuracy: 0.5416 - loss: 0.2520 - val_accuracy: 0.9610 - val_loss: 0.0280\n",
      "Epoch 2/15\n",
      "\u001b[1m237/237\u001b[0m \u001b[32m━━━━━━━━━━━━━━━━━━━━\u001b[0m\u001b[37m\u001b[0m \u001b[1m2s\u001b[0m 8ms/step - accuracy: 0.9641 - loss: 0.0239 - val_accuracy: 0.9783 - val_loss: 0.0162\n",
      "Epoch 3/15\n",
      "\u001b[1m237/237\u001b[0m \u001b[32m━━━━━━━━━━━━━━━━━━━━\u001b[0m\u001b[37m\u001b[0m \u001b[1m2s\u001b[0m 9ms/step - accuracy: 0.9782 - loss: 0.0144 - val_accuracy: 0.9812 - val_loss: 0.0125\n",
      "Epoch 4/15\n",
      "\u001b[1m237/237\u001b[0m \u001b[32m━━━━━━━━━━━━━━━━━━━━\u001b[0m\u001b[37m\u001b[0m \u001b[1m2s\u001b[0m 9ms/step - accuracy: 0.9848 - loss: 0.0105 - val_accuracy: 0.9839 - val_loss: 0.0102\n",
      "Epoch 5/15\n",
      "\u001b[1m237/237\u001b[0m \u001b[32m━━━━━━━━━━━━━━━━━━━━\u001b[0m\u001b[37m\u001b[0m \u001b[1m2s\u001b[0m 9ms/step - accuracy: 0.9877 - loss: 0.0079 - val_accuracy: 0.9857 - val_loss: 0.0093\n",
      "Epoch 6/15\n",
      "\u001b[1m237/237\u001b[0m \u001b[32m━━━━━━━━━━━━━━━━━━━━\u001b[0m\u001b[37m\u001b[0m \u001b[1m2s\u001b[0m 10ms/step - accuracy: 0.9908 - loss: 0.0064 - val_accuracy: 0.9857 - val_loss: 0.0091\n",
      "Epoch 7/15\n",
      "\u001b[1m237/237\u001b[0m \u001b[32m━━━━━━━━━━━━━━━━━━━━\u001b[0m\u001b[37m\u001b[0m \u001b[1m2s\u001b[0m 9ms/step - accuracy: 0.9917 - loss: 0.0058 - val_accuracy: 0.9854 - val_loss: 0.0092\n",
      "Epoch 8/15\n",
      "\u001b[1m237/237\u001b[0m \u001b[32m━━━━━━━━━━━━━━━━━━━━\u001b[0m\u001b[37m\u001b[0m \u001b[1m2s\u001b[0m 10ms/step - accuracy: 0.9941 - loss: 0.0044 - val_accuracy: 0.9878 - val_loss: 0.0092\n",
      "Epoch 9/15\n",
      "\u001b[1m237/237\u001b[0m \u001b[32m━━━━━━━━━━━━━━━━━━━━\u001b[0m\u001b[37m\u001b[0m \u001b[1m2s\u001b[0m 10ms/step - accuracy: 0.9950 - loss: 0.0037 - val_accuracy: 0.9866 - val_loss: 0.0087\n",
      "Epoch 10/15\n",
      "\u001b[1m237/237\u001b[0m \u001b[32m━━━━━━━━━━━━━━━━━━━━\u001b[0m\u001b[37m\u001b[0m \u001b[1m2s\u001b[0m 10ms/step - accuracy: 0.9967 - loss: 0.0029 - val_accuracy: 0.9875 - val_loss: 0.0086\n",
      "Epoch 11/15\n",
      "\u001b[1m237/237\u001b[0m \u001b[32m━━━━━━━━━━━━━━━━━━━━\u001b[0m\u001b[37m\u001b[0m \u001b[1m2s\u001b[0m 10ms/step - accuracy: 0.9965 - loss: 0.0027 - val_accuracy: 0.9824 - val_loss: 0.0107\n",
      "Epoch 12/15\n",
      "\u001b[1m237/237\u001b[0m \u001b[32m━━━━━━━━━━━━━━━━━━━━\u001b[0m\u001b[37m\u001b[0m \u001b[1m2s\u001b[0m 10ms/step - accuracy: 0.9965 - loss: 0.0026 - val_accuracy: 0.9863 - val_loss: 0.0100\n",
      "Epoch 13/15\n",
      "\u001b[1m237/237\u001b[0m \u001b[32m━━━━━━━━━━━━━━━━━━━━\u001b[0m\u001b[37m\u001b[0m \u001b[1m2s\u001b[0m 10ms/step - accuracy: 0.9959 - loss: 0.0031 - val_accuracy: 0.9893 - val_loss: 0.0089\n",
      "Epoch 14/15\n",
      "\u001b[1m237/237\u001b[0m \u001b[32m━━━━━━━━━━━━━━━━━━━━\u001b[0m\u001b[37m\u001b[0m \u001b[1m2s\u001b[0m 10ms/step - accuracy: 0.9983 - loss: 0.0016 - val_accuracy: 0.9890 - val_loss: 0.0089\n",
      "Epoch 15/15\n",
      "\u001b[1m237/237\u001b[0m \u001b[32m━━━━━━━━━━━━━━━━━━━━\u001b[0m\u001b[37m\u001b[0m \u001b[1m3s\u001b[0m 11ms/step - accuracy: 0.9989 - loss: 0.0012 - val_accuracy: 0.9866 - val_loss: 0.0098\n",
      "\u001b[1m1050/1050\u001b[0m \u001b[32m━━━━━━━━━━━━━━━━━━━━\u001b[0m\u001b[37m\u001b[0m \u001b[1m3s\u001b[0m 3ms/step\n",
      "Training accuracy:  0.9979166666666667\n"
     ]
    }
   ],
   "source": [
    "import keras\n",
    "from keras import *\n",
    "from keras.layers import *\n",
    "\n",
    "# We will go from a pandas dataframe to a 28x28x1 matrix\n",
    "def preprocess_X(X):\n",
    "    X_preprocess = X / 255\n",
    "    X_preprocess = X_preprocess.values.reshape(-1,28,28,1)\n",
    "    return X_preprocess\n",
    "\n",
    "def preprocess_y(y_train):\n",
    "    return keras.utils.to_categorical(y_train, 10)\n",
    "\n",
    "def postprocess_predictions(predictions):\n",
    "    return np.argmax(predictions, axis=1).tolist()\n",
    "\n",
    "def train_cnn_model(X_train, y_train):\n",
    "    X_train_preprocess = preprocess_X(X_train)\n",
    "    y_train_preprocess = preprocess_y(y_train)\n",
    "\n",
    "    # Create a sequential classifier\n",
    "    classifier = Sequential()\n",
    "\n",
    "    # Add our CNN Layers - 3x3 filter\n",
    "    classifier.add(Conv2D(32, (3,3), input_shape=(28,28,1), activation='relu'))\n",
    "    # Now pool features in a 2x2 Pool\n",
    "    classifier.add(MaxPooling2D(pool_size=(2, 2)))\n",
    "\n",
    "    # Add a second CNN layer\n",
    "    classifier.add(Conv2D(32, (3, 3), activation='relu'))\n",
    "    classifier.add(MaxPooling2D(pool_size=(2, 2)))\n",
    "\n",
    "    # Flatten before moving over to other layers\n",
    "    classifier.add(Flatten())\n",
    "    \n",
    "    # Now we'll add 2 layers 128/256 nodes\n",
    "    classifier.add(Dense(units=128, activation='relu'))\n",
    "    classifier.add(Dense(units=256, activation='relu'))\n",
    "\n",
    "    # Finally a softmax layer with 10 units (one for each digit)\n",
    "    classifier.add(Dense(units=10, activation='softmax'))\n",
    "\n",
    "    classifier.compile(optimizer='adam', loss='binary_crossentropy', metrics=['accuracy'])\n",
    "\n",
    "    # Need to convert our y_train to categorical for this to work\n",
    "\n",
    "    classifier.fit(X_train_preprocess, y_train_preprocess, batch_size = 128, epochs=15, validation_split=0.1)\n",
    "    \n",
    "    train_predictions = classifier.predict(X_train_preprocess)\n",
    "    train_classes =  postprocess_predictions(train_predictions)\n",
    "    train_accuracy = accuracy_score(y_train, train_classes)\n",
    "\n",
    "    print(\"Training accuracy: \", train_accuracy)\n",
    "\n",
    "    return classifier\n",
    "\n",
    "cnn_model = train_cnn_model(X_train, y_train)\n"
   ]
  },
  {
   "cell_type": "code",
   "execution_count": 4,
   "id": "e49b338f-82bf-4d55-878d-62189ff2ef53",
   "metadata": {},
   "outputs": [
    {
     "name": "stdout",
     "output_type": "stream",
     "text": [
      "\u001b[1m263/263\u001b[0m \u001b[32m━━━━━━━━━━━━━━━━━━━━\u001b[0m\u001b[37m\u001b[0m \u001b[1m1s\u001b[0m 3ms/step\n",
      "Test accuracy:  0.9897619047619047\n"
     ]
    }
   ],
   "source": [
    "cnn_predictions = run_model(cnn_model, X_test)\n",
    "cnn_test_accuracy = accuracy_score(y_test, cnn_predictions)\n",
    "\n",
    "print(\"Test accuracy: \", cnn_test_accuracy)"
   ]
  },
  {
   "cell_type": "code",
   "execution_count": 5,
   "id": "54f3703a-5cdd-44b0-ae20-f2078e9312e6",
   "metadata": {},
   "outputs": [
    {
     "name": "stdout",
     "output_type": "stream",
     "text": [
      "\u001b[1m875/875\u001b[0m \u001b[32m━━━━━━━━━━━━━━━━━━━━\u001b[0m\u001b[37m\u001b[0m \u001b[1m2s\u001b[0m 3ms/step\n"
     ]
    }
   ],
   "source": [
    "create_submission_file(cnn_model, 'cnn1_submission_file.csv')\n"
   ]
  },
  {
   "cell_type": "markdown",
   "id": "165a5c1a-3098-46b1-9886-6b114a05e370",
   "metadata": {},
   "source": [
    "Awesome - we now have a 98.717% accuracy rate.  That is better.  We've moved 1/2 way up - #624 on the leaderboard.\n",
    "\n",
    "![image](sub2.png)\n",
    "\n",
    "A quick recap on what we've done:\n",
    "\n",
    "* We have a first convolutional layers with a 3x3 matrix with 32 features - which we then downsampole using a 2x2 max pooling layer.\n",
    "* After some experimentation - I added a second convolutional layer - also 32 features in a 3x3 matrix, again with a 2x2 max pooling layer - to help improve accuracy (it helped a bit - we went from 98.4 to 98.7% accuracy in our submission)\n",
    "* We need to then flatten the CNN output (since its in a 2 dimensional matrix, and a normal neural net needs a single dimension)\n",
    "* We take the flattened output of the CNN and then feed that into 2 more fully connected neural net layers with 128 and 256 nodes respectively.\n",
    "* We feed the output of the CNN into a layer that uses a 10 node softmax layer to predict the overall probability of the image being one of the classes - and then pick the highest probabiltity in a post-process step.\n",
    "\n",
    "We can use that to check our accuracy and create our submission file.\n",
    "\n",
    "Now we are likely a bit over-fit - since our training set validation is coming in at 99.8+% accuracy and our test set is coming in at ~98.5%.\n",
    "\n",
    "So for our next submission, I'm going to try and create some synthetic data based on the images to try and fix our overfitting.\n"
   ]
  },
  {
   "cell_type": "markdown",
   "id": "1558f189-2d5b-41af-a2eb-62532b199ba6",
   "metadata": {},
   "source": [
    "## Model 3\n",
    "\n",
    "I'm going to add some steps in the beginning of our train_model function to add some synthetic data.  The nice thing is that Keras provides us with functions to do this pretty easily.\n",
    "\n",
    "Lets see what happens if we add random rotation, image shifting and zooming to our data.  We could also experiment with recoloring or doing inversion if that makes sense.\n",
    "\n",
    "We will also increase the number of epochs since we're going to be running data through that has changed - it won't always be the same data."
   ]
  },
  {
   "cell_type": "code",
   "execution_count": 6,
   "id": "b669a824-dc27-446a-85d7-ee3c22abadf7",
   "metadata": {},
   "outputs": [
    {
     "name": "stdout",
     "output_type": "stream",
     "text": [
      "Epoch 1/15\n",
      "\u001b[1m237/237\u001b[0m \u001b[32m━━━━━━━━━━━━━━━━━━━━\u001b[0m\u001b[37m\u001b[0m \u001b[1m3s\u001b[0m 11ms/step - accuracy: 0.5463 - loss: 0.2402 - val_accuracy: 0.9622 - val_loss: 0.0268\n",
      "Epoch 2/15\n",
      "\u001b[1m237/237\u001b[0m \u001b[32m━━━━━━━━━━━━━━━━━━━━\u001b[0m\u001b[37m\u001b[0m \u001b[1m3s\u001b[0m 12ms/step - accuracy: 0.9491 - loss: 0.0321 - val_accuracy: 0.9759 - val_loss: 0.0156\n",
      "Epoch 3/15\n",
      "\u001b[1m237/237\u001b[0m \u001b[32m━━━━━━━━━━━━━━━━━━━━\u001b[0m\u001b[37m\u001b[0m \u001b[1m3s\u001b[0m 12ms/step - accuracy: 0.9658 - loss: 0.0220 - val_accuracy: 0.9827 - val_loss: 0.0119\n",
      "Epoch 4/15\n",
      "\u001b[1m237/237\u001b[0m \u001b[32m━━━━━━━━━━━━━━━━━━━━\u001b[0m\u001b[37m\u001b[0m \u001b[1m3s\u001b[0m 12ms/step - accuracy: 0.9727 - loss: 0.0171 - val_accuracy: 0.9842 - val_loss: 0.0101\n",
      "Epoch 5/15\n",
      "\u001b[1m237/237\u001b[0m \u001b[32m━━━━━━━━━━━━━━━━━━━━\u001b[0m\u001b[37m\u001b[0m \u001b[1m3s\u001b[0m 12ms/step - accuracy: 0.9780 - loss: 0.0143 - val_accuracy: 0.9881 - val_loss: 0.0085\n",
      "Epoch 6/15\n",
      "\u001b[1m237/237\u001b[0m \u001b[32m━━━━━━━━━━━━━━━━━━━━\u001b[0m\u001b[37m\u001b[0m \u001b[1m3s\u001b[0m 12ms/step - accuracy: 0.9784 - loss: 0.0133 - val_accuracy: 0.9884 - val_loss: 0.0079\n",
      "Epoch 7/15\n",
      "\u001b[1m237/237\u001b[0m \u001b[32m━━━━━━━━━━━━━━━━━━━━\u001b[0m\u001b[37m\u001b[0m \u001b[1m3s\u001b[0m 12ms/step - accuracy: 0.9811 - loss: 0.0116 - val_accuracy: 0.9899 - val_loss: 0.0073\n",
      "Epoch 8/15\n",
      "\u001b[1m237/237\u001b[0m \u001b[32m━━━━━━━━━━━━━━━━━━━━\u001b[0m\u001b[37m\u001b[0m \u001b[1m3s\u001b[0m 12ms/step - accuracy: 0.9852 - loss: 0.0093 - val_accuracy: 0.9875 - val_loss: 0.0074\n",
      "Epoch 9/15\n",
      "\u001b[1m237/237\u001b[0m \u001b[32m━━━━━━━━━━━━━━━━━━━━\u001b[0m\u001b[37m\u001b[0m \u001b[1m3s\u001b[0m 12ms/step - accuracy: 0.9853 - loss: 0.0092 - val_accuracy: 0.9908 - val_loss: 0.0068\n",
      "Epoch 10/15\n",
      "\u001b[1m237/237\u001b[0m \u001b[32m━━━━━━━━━━━━━━━━━━━━\u001b[0m\u001b[37m\u001b[0m \u001b[1m3s\u001b[0m 12ms/step - accuracy: 0.9853 - loss: 0.0084 - val_accuracy: 0.9908 - val_loss: 0.0064\n",
      "Epoch 11/15\n",
      "\u001b[1m237/237\u001b[0m \u001b[32m━━━━━━━━━━━━━━━━━━━━\u001b[0m\u001b[37m\u001b[0m \u001b[1m3s\u001b[0m 12ms/step - accuracy: 0.9880 - loss: 0.0081 - val_accuracy: 0.9926 - val_loss: 0.0058\n",
      "Epoch 12/15\n",
      "\u001b[1m237/237\u001b[0m \u001b[32m━━━━━━━━━━━━━━━━━━━━\u001b[0m\u001b[37m\u001b[0m \u001b[1m3s\u001b[0m 12ms/step - accuracy: 0.9885 - loss: 0.0073 - val_accuracy: 0.9899 - val_loss: 0.0061\n",
      "Epoch 13/15\n",
      "\u001b[1m237/237\u001b[0m \u001b[32m━━━━━━━━━━━━━━━━━━━━\u001b[0m\u001b[37m\u001b[0m \u001b[1m3s\u001b[0m 12ms/step - accuracy: 0.9894 - loss: 0.0068 - val_accuracy: 0.9932 - val_loss: 0.0052\n",
      "Epoch 14/15\n",
      "\u001b[1m237/237\u001b[0m \u001b[32m━━━━━━━━━━━━━━━━━━━━\u001b[0m\u001b[37m\u001b[0m \u001b[1m3s\u001b[0m 12ms/step - accuracy: 0.9892 - loss: 0.0069 - val_accuracy: 0.9911 - val_loss: 0.0059\n",
      "Epoch 15/15\n",
      "\u001b[1m237/237\u001b[0m \u001b[32m━━━━━━━━━━━━━━━━━━━━\u001b[0m\u001b[37m\u001b[0m \u001b[1m3s\u001b[0m 12ms/step - accuracy: 0.9894 - loss: 0.0060 - val_accuracy: 0.9914 - val_loss: 0.0060\n",
      "\u001b[1m1050/1050\u001b[0m \u001b[32m━━━━━━━━━━━━━━━━━━━━\u001b[0m\u001b[37m\u001b[0m \u001b[1m3s\u001b[0m 3ms/step\n",
      "Training accuracy:  0.9960416666666667\n"
     ]
    }
   ],
   "source": [
    "\n",
    "\n",
    "def train_cnn_model2(X_train, y_train):\n",
    "    X_train_preprocess = preprocess_X(X_train)\n",
    "    y_train_preprocess = preprocess_y(y_train)\n",
    "\n",
    "    # Create a sequential classifier\n",
    "    classifier = Sequential()\n",
    "\n",
    "    # So - we tried lots of these agumentation methods, and none of them seemed to help that much.\n",
    "    # Rotation and zoom of .05 helped a bit, but overall not great performance.\n",
    "    # When used in combination wtih the dropout - seems like dropout is better to avoid overfitting here\n",
    "    #data_augmentation = Sequential([\n",
    "        #layers.RandomRotation(0.5),\n",
    "        #layers.RandomTranslation(0.1, 0.1, fill_mode=\"constant\", fill_value=0),\n",
    "        #layers.RandomZoom(0.05),\n",
    "        #layers.RandomInvert(), \n",
    "        #layers.RandomBrightness(0.1), Brightness and contrast seem to hurt our model\n",
    "        #layers.RandomContrast(0.1)\n",
    "    #])\n",
    "    classifier.add(Input(shape=(28,28,1)))\n",
    "    #classifier.add(data_augmentation)\n",
    "    \n",
    "    # Add our CNN Layers - 3x3 filter\n",
    "    classifier.add(Conv2D(32, (3,3), activation='relu'))\n",
    "    # Now pool features in a 2x2 Pool\n",
    "    classifier.add(MaxPooling2D(pool_size=(2, 2)))\n",
    "\n",
    "    # Add a second CNN layer\n",
    "    classifier.add(Conv2D(32, (3, 3), activation='relu'))\n",
    "    classifier.add(MaxPooling2D(pool_size=(2, 2)))\n",
    "\n",
    "    # Flatten before moving over to other layers\n",
    "    classifier.add(Flatten())\n",
    "\n",
    "    # Lets see if adding dropout will help with overfitting\n",
    "    classifier.add(Dropout(0.5))\n",
    "    \n",
    "    # Now we'll add 2 layers 128/256 nodes\n",
    "    classifier.add(Dense(units=128, activation='relu'))\n",
    "    classifier.add(Dense(units=256, activation='relu'))\n",
    "\n",
    "    # Finally a softmax layer with 10 units (one for each digit)\n",
    "    classifier.add(Dense(units=10, activation='softmax'))\n",
    "\n",
    "    classifier.compile(optimizer='adam', loss='binary_crossentropy', metrics=['accuracy'])\n",
    "\n",
    "    # Need to convert our y_train to categorical for this to work\n",
    "\n",
    "    classifier.fit(X_train_preprocess, y_train_preprocess, batch_size = 128, epochs=15, validation_split=0.1)\n",
    "    \n",
    "    train_predictions = classifier.predict(X_train_preprocess)\n",
    "    train_classes =  postprocess_predictions(train_predictions)\n",
    "    train_accuracy = accuracy_score(y_train, train_classes)\n",
    "\n",
    "    print(\"Training accuracy: \", train_accuracy)\n",
    "\n",
    "    return classifier\n",
    "\n",
    "cnn_model2 = train_cnn_model2(X_train, y_train)"
   ]
  },
  {
   "cell_type": "markdown",
   "id": "a6424e8a-4ed6-4e64-b747-0c00f4d4041c",
   "metadata": {},
   "source": [
    "Did a bunch of experimentation with data augmentation - tried rotation, shifting, zooming, brightness and contrast changes - both with small and larger factors.\n",
    "\n",
    "Turns out that what I found was:\n",
    "* Rotation and zoom helped overall accuracy (reduced overfitting) but only by a little bit when the values were low\n",
    "* Translation, Brightness, Contrast and Inversion didn't help - perhaps because with this dataset the images are already pretty optimized.\n",
    "\n",
    "So I looked at other ways to make overfitting a bit better - and was able to add a dropout layer - with a .5 probability - and that performed pretty well, increasing our regognition rate on our test set up to the 99% range.\n",
    "\n",
    "I also tried increasing the number of filters to 64 (from 32) and saw a degration in the overall results, so I kept the filters to 32\n",
    "\n",
    "The inceased epochs also didn't help - we seemed to flatten out around 15/16 epochs.\n",
    "\n",
    "I was surprised that adding the dropout layer was the best improvement, but the data holds."
   ]
  },
  {
   "cell_type": "code",
   "execution_count": 7,
   "id": "3910d55a-381a-4c88-a54b-004ff98e3f49",
   "metadata": {},
   "outputs": [
    {
     "name": "stdout",
     "output_type": "stream",
     "text": [
      "\u001b[1m263/263\u001b[0m \u001b[32m━━━━━━━━━━━━━━━━━━━━\u001b[0m\u001b[37m\u001b[0m \u001b[1m1s\u001b[0m 3ms/step\n",
      "Test accuracy:  0.9896428571428572\n"
     ]
    }
   ],
   "source": [
    "cnn2_predictions = run_model(cnn_model2, X_test)\n",
    "cnn2_test_accuracy = accuracy_score(y_test, cnn2_predictions)\n",
    "\n",
    "print(\"Test accuracy: \", cnn2_test_accuracy)"
   ]
  },
  {
   "cell_type": "code",
   "execution_count": 8,
   "id": "91556fe8-74e9-4091-98d8-de08c5cf8c03",
   "metadata": {},
   "outputs": [
    {
     "name": "stdout",
     "output_type": "stream",
     "text": [
      "\u001b[1m875/875\u001b[0m \u001b[32m━━━━━━━━━━━━━━━━━━━━\u001b[0m\u001b[37m\u001b[0m \u001b[1m2s\u001b[0m 3ms/step\n"
     ]
    }
   ],
   "source": [
    "create_submission_file(cnn_model2, 'cnn2_submission_file.csv')\n"
   ]
  },
  {
   "cell_type": "markdown",
   "id": "3e33ab53-e86f-4abb-86a5-fd6f70997588",
   "metadata": {},
   "source": [
    "Awesome - we now have a 99.021% accuracy rate.  Small improvement, but an improvement none the less.  Up to #411 on the leaderboard.\n",
    "\n",
    "![image](sub3.png)\n"
   ]
  },
  {
   "cell_type": "code",
   "execution_count": 10,
   "id": "293fc750-14f5-467d-a4f6-e9b63fd255f9",
   "metadata": {},
   "outputs": [
    {
     "data": {
      "image/png": "[encoded data removed]",
      "text/plain": [
       "<Figure size 640x480 with 1 Axes>"
      ]
     },
     "metadata": {},
     "output_type": "display_data"
    },
    {
     "data": {
      "image/png": "[encoded data removed]",
      "text/plain": [
       "<Figure size 640x480 with 1 Axes>"
      ]
     },
     "metadata": {},
     "output_type": "display_data"
    },
    {
     "data": {
      "image/png": "[encoded data removed]",
      "text/plain": [
       "<Figure size 640x480 with 1 Axes>"
      ]
     },
     "metadata": {},
     "output_type": "display_data"
    },
    {
     "data": {
      "image/png": "[encoded data removed]",
      "text/plain": [
       "<Figure size 640x480 with 1 Axes>"
      ]
     },
     "metadata": {},
     "output_type": "display_data"
    },
    {
     "data": {
      "image/png": "[encoded data removed]",
      "text/plain": [
       "<Figure size 640x480 with 1 Axes>"
      ]
     },
     "metadata": {},
     "output_type": "display_data"
    }
   ],
   "source": [
    "import matplotlib.pyplot as plt\n",
    "import matplotlib.image as mpimg\n",
    "\n",
    "# Out of curiosity, lets see what is different between the two and show the errors\n",
    "different_indices = np.where(y_test != cnn2_predictions)[0]\n",
    "\n",
    "df = pd.DataFrame()\n",
    "df['actual'] = y_test\n",
    "df['predicted'] = cnn2_predictions\n",
    "\n",
    "different = df[df['actual']!=df['predicted']]\n",
    "for index, row in different.head().iterrows():\n",
    "    plt.title(\"Predicted label :{}\\nTrue label :{}\".format(row.predicted, row.actual))\n",
    "    plt.imshow(X_test.loc[index].values.reshape(28,28,1)) \n",
    "    plt.show()\n"
   ]
  }
 ],
 "metadata": {
  "kernelspec": {
   "display_name": "Python 3 (ipykernel)",
   "language": "python",
   "name": "python3"
  },
  "language_info": {
   "codemirror_mode": {
    "name": "ipython",
    "version": 3
   },
   "file_extension": ".py",
   "mimetype": "text/x-python",
   "name": "python",
   "nbconvert_exporter": "python",
   "pygments_lexer": "ipython3",
   "version": "3.11.5"
  }
 },
 "nbformat": 4,
 "nbformat_minor": 5
}
